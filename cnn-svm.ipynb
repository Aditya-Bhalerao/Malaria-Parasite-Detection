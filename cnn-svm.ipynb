{
 "cells": [
  {
   "cell_type": "code",
   "execution_count": 1,
   "metadata": {},
   "outputs": [],
   "source": [
    "from sklearn.metrics import accuracy_score, f1_score, precision_score, confusion_matrix, roc_auc_score, roc_curve\n",
    "import warnings\n",
    "warnings.filterwarnings('ignore')\n",
    "\n",
    "\n",
    "import os\n",
    "import numpy as np\n",
    "import pandas as pd\n",
    "\n",
    "from sklearn.model_selection import train_test_split\n",
    "from sklearn.svm import SVC\n",
    "from sklearn.metrics import accuracy_score\n",
    "import tensorflow as tf\n",
    "from tensorflow.keras import Sequential\n",
    "from keras.layers import Conv2D, MaxPooling2D, Activation, Dropout, Flatten, Dense\n",
    "from keras.callbacks import EarlyStopping\n",
    "from tensorflow.keras.preprocessing.image import ImageDataGenerator\n",
    "from keras.applications.vgg19 import VGG19\n",
    "from keras.applications.inception_v3 import InceptionV3, preprocess_input\n",
    "from keras.applications import resnet50\n",
    "from keras.models import Model, load_model\n",
    "from keras.layers import Input\n",
    "from tensorflow.keras.layers import BatchNormalization\n",
    "import matplotlib.pyplot as plt\n",
    "import cv2\n",
    "\n"
   ]
  },
  {
   "cell_type": "code",
   "execution_count": 2,
   "metadata": {},
   "outputs": [
    {
     "name": "stdout",
     "output_type": "stream",
     "text": [
      "./data\n",
      "./data\\cell_images\n",
      "./data\\cell_images\\Parasitized\n",
      "./data\\cell_images\\Uninfected\n",
      "./data\\Parasitized\n",
      "./data\\Uninfected\n"
     ]
    }
   ],
   "source": [
    "for dirname, _, filenames in os.walk('./data'):\n",
    "    print(dirname)"
   ]
  },
  {
   "cell_type": "code",
   "execution_count": 3,
   "metadata": {},
   "outputs": [],
   "source": [
    "def data_prep(parasitized, uninfected):\n",
    "    \n",
    "    parasitized = [\"./data/Parasitized\" + '/' +  parasitize for parasitize in parasitized]\n",
    "    uninfected = [\"./data/Uninfected\" + '/' +  uninfect for uninfect in uninfected]\n",
    "\n",
    "    labels = len(parasitized) * ['parasitized'] + len(uninfected) * ['uninfected']\n",
    "    data = parasitized + uninfected\n",
    "\n",
    "    return pd.DataFrame({'Image_Path': data , 'Labels': labels})"
   ]
  },
  {
   "cell_type": "code",
   "execution_count": 4,
   "metadata": {},
   "outputs": [],
   "source": [
    "df = data_prep(os.listdir(\"./data/Parasitized/\"), os.listdir(\"./data/Uninfected/\"))"
   ]
  },
  {
   "cell_type": "code",
   "execution_count": 5,
   "metadata": {},
   "outputs": [
    {
     "name": "stdout",
     "output_type": "stream",
     "text": [
      "Shape of the DataFrame: (27558, 2)\n",
      "\n",
      "Head of the DataFrame:\n",
      "                                          Image_Path       Labels\n",
      "0  ./data/Parasitized/C100P61ThinF_IMG_20150918_1...  parasitized\n",
      "1  ./data/Parasitized/C100P61ThinF_IMG_20150918_1...  parasitized\n",
      "2  ./data/Parasitized/C100P61ThinF_IMG_20150918_1...  parasitized\n",
      "3  ./data/Parasitized/C100P61ThinF_IMG_20150918_1...  parasitized\n",
      "4  ./data/Parasitized/C100P61ThinF_IMG_20150918_1...  parasitized\n",
      "\n",
      "Tail of the DataFrame:\n",
      "                                              Image_Path      Labels\n",
      "27553  ./data/Uninfected/C99P60ThinF_IMG_20150918_142...  uninfected\n",
      "27554  ./data/Uninfected/C99P60ThinF_IMG_20150918_142...  uninfected\n",
      "27555  ./data/Uninfected/C99P60ThinF_IMG_20150918_142...  uninfected\n",
      "27556  ./data/Uninfected/C99P60ThinF_IMG_20150918_142...  uninfected\n",
      "27557  ./data/Uninfected/C99P60ThinF_IMG_20150918_142...  uninfected\n"
     ]
    }
   ],
   "source": [
    "\n",
    "\n",
    "print(\"Shape of the DataFrame:\", df.shape)\n",
    "print(\"\\nHead of the DataFrame:\")\n",
    "print(df.head())\n",
    "print(\"\\nTail of the DataFrame:\")\n",
    "print(df.tail())\n",
    "\n"
   ]
  },
  {
   "cell_type": "code",
   "execution_count": 6,
   "metadata": {},
   "outputs": [
    {
     "name": "stdout",
     "output_type": "stream",
     "text": [
      "Epoch 1/30\n",
      "\u001b[1m552/552\u001b[0m \u001b[32m━━━━━━━━━━━━━━━━━━━━\u001b[0m\u001b[37m\u001b[0m \u001b[1m42s\u001b[0m 69ms/step - accuracy: 0.6308 - loss: 0.7282 - val_accuracy: 0.6313 - val_loss: 1.1061\n",
      "Epoch 2/30\n",
      "\u001b[1m552/552\u001b[0m \u001b[32m━━━━━━━━━━━━━━━━━━━━\u001b[0m\u001b[37m\u001b[0m \u001b[1m41s\u001b[0m 75ms/step - accuracy: 0.9300 - loss: 0.2133 - val_accuracy: 0.9531 - val_loss: 0.1460\n",
      "Epoch 3/30\n",
      "\u001b[1m552/552\u001b[0m \u001b[32m━━━━━━━━━━━━━━━━━━━━\u001b[0m\u001b[37m\u001b[0m \u001b[1m41s\u001b[0m 74ms/step - accuracy: 0.9466 - loss: 0.1772 - val_accuracy: 0.9519 - val_loss: 0.1471\n",
      "Epoch 4/30\n",
      "\u001b[1m552/552\u001b[0m \u001b[32m━━━━━━━━━━━━━━━━━━━━\u001b[0m\u001b[37m\u001b[0m \u001b[1m46s\u001b[0m 83ms/step - accuracy: 0.9491 - loss: 0.1588 - val_accuracy: 0.9567 - val_loss: 0.1269\n",
      "Epoch 5/30\n",
      "\u001b[1m552/552\u001b[0m \u001b[32m━━━━━━━━━━━━━━━━━━━━\u001b[0m\u001b[37m\u001b[0m \u001b[1m43s\u001b[0m 78ms/step - accuracy: 0.9555 - loss: 0.1474 - val_accuracy: 0.9580 - val_loss: 0.1243\n",
      "Epoch 6/30\n",
      "\u001b[1m552/552\u001b[0m \u001b[32m━━━━━━━━━━━━━━━━━━━━\u001b[0m\u001b[37m\u001b[0m \u001b[1m44s\u001b[0m 79ms/step - accuracy: 0.9578 - loss: 0.1306 - val_accuracy: 0.5254 - val_loss: 0.6319\n",
      "Epoch 7/30\n",
      "\u001b[1m552/552\u001b[0m \u001b[32m━━━━━━━━━━━━━━━━━━━━\u001b[0m\u001b[37m\u001b[0m \u001b[1m43s\u001b[0m 78ms/step - accuracy: 0.9621 - loss: 0.1192 - val_accuracy: 0.9610 - val_loss: 0.1159\n",
      "Epoch 8/30\n",
      "\u001b[1m552/552\u001b[0m \u001b[32m━━━━━━━━━━━━━━━━━━━━\u001b[0m\u001b[37m\u001b[0m \u001b[1m44s\u001b[0m 79ms/step - accuracy: 0.9634 - loss: 0.1124 - val_accuracy: 0.9590 - val_loss: 0.1246\n",
      "Epoch 9/30\n",
      "\u001b[1m552/552\u001b[0m \u001b[32m━━━━━━━━━━━━━━━━━━━━\u001b[0m\u001b[37m\u001b[0m \u001b[1m44s\u001b[0m 79ms/step - accuracy: 0.9658 - loss: 0.1031 - val_accuracy: 0.9551 - val_loss: 0.1388\n",
      "Epoch 10/30\n",
      "\u001b[1m552/552\u001b[0m \u001b[32m━━━━━━━━━━━━━━━━━━━━\u001b[0m\u001b[37m\u001b[0m \u001b[1m45s\u001b[0m 81ms/step - accuracy: 0.9676 - loss: 0.0969 - val_accuracy: 0.9546 - val_loss: 0.1374\n",
      "Epoch 11/30\n",
      "\u001b[1m552/552\u001b[0m \u001b[32m━━━━━━━━━━━━━━━━━━━━\u001b[0m\u001b[37m\u001b[0m \u001b[1m47s\u001b[0m 85ms/step - accuracy: 0.9730 - loss: 0.0861 - val_accuracy: 0.9238 - val_loss: 0.2011\n",
      "Epoch 12/30\n",
      "\u001b[1m552/552\u001b[0m \u001b[32m━━━━━━━━━━━━━━━━━━━━\u001b[0m\u001b[37m\u001b[0m \u001b[1m42s\u001b[0m 77ms/step - accuracy: 0.9744 - loss: 0.0803 - val_accuracy: 0.9567 - val_loss: 0.1193\n",
      "Epoch 13/30\n",
      "\u001b[1m552/552\u001b[0m \u001b[32m━━━━━━━━━━━━━━━━━━━━\u001b[0m\u001b[37m\u001b[0m \u001b[1m44s\u001b[0m 80ms/step - accuracy: 0.9732 - loss: 0.0853 - val_accuracy: 0.9560 - val_loss: 0.1226\n",
      "Epoch 14/30\n",
      "\u001b[1m552/552\u001b[0m \u001b[32m━━━━━━━━━━━━━━━━━━━━\u001b[0m\u001b[37m\u001b[0m \u001b[1m45s\u001b[0m 82ms/step - accuracy: 0.9770 - loss: 0.0685 - val_accuracy: 0.9562 - val_loss: 0.1371\n",
      "Epoch 15/30\n",
      "\u001b[1m552/552\u001b[0m \u001b[32m━━━━━━━━━━━━━━━━━━━━\u001b[0m\u001b[37m\u001b[0m \u001b[1m48s\u001b[0m 88ms/step - accuracy: 0.9810 - loss: 0.0588 - val_accuracy: 0.9524 - val_loss: 0.1402\n",
      "Epoch 16/30\n",
      "\u001b[1m552/552\u001b[0m \u001b[32m━━━━━━━━━━━━━━━━━━━━\u001b[0m\u001b[37m\u001b[0m \u001b[1m51s\u001b[0m 92ms/step - accuracy: 0.9814 - loss: 0.0528 - val_accuracy: 0.9558 - val_loss: 0.1887\n",
      "Epoch 17/30\n",
      "\u001b[1m552/552\u001b[0m \u001b[32m━━━━━━━━━━━━━━━━━━━━\u001b[0m\u001b[37m\u001b[0m \u001b[1m51s\u001b[0m 92ms/step - accuracy: 0.9850 - loss: 0.0428 - val_accuracy: 0.9492 - val_loss: 0.2387\n",
      "Epoch 18/30\n",
      "\u001b[1m552/552\u001b[0m \u001b[32m━━━━━━━━━━━━━━━━━━━━\u001b[0m\u001b[37m\u001b[0m \u001b[1m47s\u001b[0m 85ms/step - accuracy: 0.9861 - loss: 0.0402 - val_accuracy: 0.9558 - val_loss: 0.1697\n",
      "Epoch 19/30\n",
      "\u001b[1m552/552\u001b[0m \u001b[32m━━━━━━━━━━━━━━━━━━━━\u001b[0m\u001b[37m\u001b[0m \u001b[1m44s\u001b[0m 80ms/step - accuracy: 0.9888 - loss: 0.0329 - val_accuracy: 0.9503 - val_loss: 0.2163\n",
      "Epoch 20/30\n",
      "\u001b[1m552/552\u001b[0m \u001b[32m━━━━━━━━━━━━━━━━━━━━\u001b[0m\u001b[37m\u001b[0m \u001b[1m42s\u001b[0m 77ms/step - accuracy: 0.9896 - loss: 0.0336 - val_accuracy: 0.9565 - val_loss: 0.1843\n",
      "Epoch 21/30\n",
      "\u001b[1m552/552\u001b[0m \u001b[32m━━━━━━━━━━━━━━━━━━━━\u001b[0m\u001b[37m\u001b[0m \u001b[1m38s\u001b[0m 70ms/step - accuracy: 0.9914 - loss: 0.0280 - val_accuracy: 0.9567 - val_loss: 0.2388\n",
      "Epoch 22/30\n",
      "\u001b[1m552/552\u001b[0m \u001b[32m━━━━━━━━━━━━━━━━━━━━\u001b[0m\u001b[37m\u001b[0m \u001b[1m38s\u001b[0m 69ms/step - accuracy: 0.9933 - loss: 0.0243 - val_accuracy: 0.9517 - val_loss: 0.2219\n",
      "Epoch 23/30\n",
      "\u001b[1m552/552\u001b[0m \u001b[32m━━━━━━━━━━━━━━━━━━━━\u001b[0m\u001b[37m\u001b[0m \u001b[1m39s\u001b[0m 70ms/step - accuracy: 0.9917 - loss: 0.0233 - val_accuracy: 0.9587 - val_loss: 0.2332\n",
      "Epoch 24/30\n",
      "\u001b[1m552/552\u001b[0m \u001b[32m━━━━━━━━━━━━━━━━━━━━\u001b[0m\u001b[37m\u001b[0m \u001b[1m38s\u001b[0m 70ms/step - accuracy: 0.9945 - loss: 0.0184 - val_accuracy: 0.9120 - val_loss: 0.7791\n",
      "Epoch 25/30\n",
      "\u001b[1m552/552\u001b[0m \u001b[32m━━━━━━━━━━━━━━━━━━━━\u001b[0m\u001b[37m\u001b[0m \u001b[1m38s\u001b[0m 69ms/step - accuracy: 0.9816 - loss: 0.0513 - val_accuracy: 0.9483 - val_loss: 0.1834\n",
      "Epoch 26/30\n",
      "\u001b[1m552/552\u001b[0m \u001b[32m━━━━━━━━━━━━━━━━━━━━\u001b[0m\u001b[37m\u001b[0m \u001b[1m37s\u001b[0m 67ms/step - accuracy: 0.9940 - loss: 0.0170 - val_accuracy: 0.9544 - val_loss: 0.2674\n",
      "Epoch 27/30\n",
      "\u001b[1m552/552\u001b[0m \u001b[32m━━━━━━━━━━━━━━━━━━━━\u001b[0m\u001b[37m\u001b[0m \u001b[1m36s\u001b[0m 66ms/step - accuracy: 0.9948 - loss: 0.0194 - val_accuracy: 0.9544 - val_loss: 0.2655\n",
      "Epoch 28/30\n",
      "\u001b[1m552/552\u001b[0m \u001b[32m━━━━━━━━━━━━━━━━━━━━\u001b[0m\u001b[37m\u001b[0m \u001b[1m38s\u001b[0m 68ms/step - accuracy: 0.9907 - loss: 0.0293 - val_accuracy: 0.9474 - val_loss: 0.2469\n",
      "Epoch 29/30\n",
      "\u001b[1m552/552\u001b[0m \u001b[32m━━━━━━━━━━━━━━━━━━━━\u001b[0m\u001b[37m\u001b[0m \u001b[1m36s\u001b[0m 66ms/step - accuracy: 0.9950 - loss: 0.0174 - val_accuracy: 0.9515 - val_loss: 0.3189\n",
      "Epoch 30/30\n",
      "\u001b[1m552/552\u001b[0m \u001b[32m━━━━━━━━━━━━━━━━━━━━\u001b[0m\u001b[37m\u001b[0m \u001b[1m37s\u001b[0m 67ms/step - accuracy: 0.9942 - loss: 0.0158 - val_accuracy: 0.9540 - val_loss: 0.2323\n",
      "<keras.src.callbacks.history.History object at 0x00000124C6808F90>\n"
     ]
    }
   ],
   "source": [
    "import cv2\n",
    "import numpy as np\n",
    "from sklearn.model_selection import train_test_split\n",
    "from sklearn.svm import SVC\n",
    "from sklearn.metrics import accuracy_score\n",
    "from keras.models import Sequential\n",
    "from keras.layers import Conv2D, MaxPooling2D, Flatten, Dense\n",
    "\n",
    "# Function to load and preprocess images\n",
    "def load_images(file_paths, target_size=(64, 64)):\n",
    "    images = []\n",
    "    for path in file_paths:\n",
    "        img = cv2.imread(path)\n",
    "        img = cv2.resize(img, target_size)\n",
    "        images.append(img)\n",
    "    return np.array(images)\n",
    "\n",
    "# Load and preprocess images\n",
    "X = load_images(df['Image_Path'])\n",
    "y = df['Labels']\n",
    "\n",
    "# Split the dataset into training and testing sets\n",
    "X_train, X_test, y_train, y_test = train_test_split(X, y, test_size=0.2, random_state=42)\n",
    "\n",
    "# Build an improved CNN model\n",
    "model = Sequential()\n",
    "model.add(Conv2D(32, (3, 3), activation='relu', input_shape=(64, 64, 3)))\n",
    "model.add(MaxPooling2D((2, 2)))\n",
    "model.add(BatchNormalization())  \n",
    "model.add(Conv2D(64, (3, 3), activation='relu'))\n",
    "model.add(MaxPooling2D((2, 2)))\n",
    "model.add(BatchNormalization())\n",
    "model.add(Conv2D(128, (3, 3), activation='relu'))\n",
    "model.add(MaxPooling2D((2, 2)))\n",
    "model.add(BatchNormalization())\n",
    "model.add(Flatten())\n",
    "model.add(Dense(256, activation='relu'))  \n",
    "model.add(Dropout(0.5))\n",
    "model.add(Dense(128, activation='relu'))  \n",
    "model.add(Dropout(0.5))\n",
    "model.add(Dense(64, activation='relu'))  \n",
    "model.add(Dense(1, activation='sigmoid'))\n",
    "\n",
    "\n",
    "model.compile(optimizer='adam', loss='binary_crossentropy', metrics=['accuracy'])\n",
    "\n",
    "# Train the CNN model\n",
    "history = model.fit(X_train, (y_train == 'parasitized').astype(int), epochs=30, batch_size=32, validation_split=0.2)\n",
    "print(history)\n"
   ]
  },
  {
   "cell_type": "code",
   "execution_count": 7,
   "metadata": {},
   "outputs": [
    {
     "name": "stdout",
     "output_type": "stream",
     "text": [
      "\u001b[1m689/689\u001b[0m \u001b[32m━━━━━━━━━━━━━━━━━━━━\u001b[0m\u001b[37m\u001b[0m \u001b[1m11s\u001b[0m 16ms/step\n",
      "\u001b[1m173/173\u001b[0m \u001b[32m━━━━━━━━━━━━━━━━━━━━\u001b[0m\u001b[37m\u001b[0m \u001b[1m3s\u001b[0m 15ms/step\n",
      "Accuracy of the SVM model (kernel: linear): 95.30116110304789\n",
      "Accuracy of the SVM model (kernel: poly): 95.4644412191582\n",
      "Accuracy of the SVM model (kernel: rbf): 95.44629898403484\n"
     ]
    }
   ],
   "source": [
    "\n",
    "results = {\n",
    "    'Kernel Type': [],\n",
    "    'Accuracy': [],\n",
    "    'F1 Score': [],\n",
    "    'Precision': [],\n",
    "    'Specificity': [],\n",
    "}\n",
    "\n",
    "# Extract features from the CNN model\n",
    "cnn_features_train = model.predict(X_train)\n",
    "cnn_features_test = model.predict(X_test)\n",
    "\n",
    "# Reshape features for SVM\n",
    "cnn_features_train_flat = cnn_features_train.reshape(\n",
    "    cnn_features_train.shape[0], -1)\n",
    "cnn_features_test_flat = cnn_features_test.reshape(\n",
    "    cnn_features_test.shape[0], -1)\n",
    "\n",
    "# List of kernel types\n",
    "kernels = ['linear', 'poly', 'rbf']\n",
    "\n",
    "# Train and evaluate SVM models for each kernel\n",
    "for kernel_type in kernels:\n",
    "    # Build an SVM model\n",
    "    svm_model = SVC(kernel=kernel_type)\n",
    "    svm_model.fit(cnn_features_train_flat, (y_train == 'parasitized'))\n",
    "\n",
    "    # Predict using the SVM model\n",
    "    svm_predictions = svm_model.predict(cnn_features_test_flat)\n",
    "    y_pred = svm_model.predict(cnn_features_test_flat)\n",
    "\n",
    "    # Evaluate the SVM model for each kernel\n",
    "    accuracy = accuracy_score((y_test == 'parasitized'), svm_predictions)\n",
    "    print(f\"Accuracy of the SVM model (kernel: {kernel_type}): {accuracy*100}\")\n",
    "    accuracy = accuracy_score((y_test == 'parasitized'), y_pred)\n",
    "    f1 = f1_score((y_test == 'parasitized'), y_pred)\n",
    "    precision = precision_score((y_test == 'parasitized'), y_pred)\n",
    "    conf_matrix = confusion_matrix((y_test == 'parasitized'), y_pred)\n",
    "    specificity = conf_matrix[0, 0] / (conf_matrix[0, 0] + conf_matrix[0, 1])\n",
    "\n",
    "    results['Kernel Type'].append(kernel_type)\n",
    "    results['Accuracy'].append(accuracy)\n",
    "    results['F1 Score'].append(f1)\n",
    "    results['Precision'].append(precision)\n",
    "    results['Specificity'].append(specificity)\n",
    "\n"
   ]
  },
  {
   "cell_type": "code",
   "execution_count": 8,
   "metadata": {},
   "outputs": [
    {
     "data": {
      "text/plain": [
       "(0.0, 1.0)"
      ]
     },
     "execution_count": 8,
     "metadata": {},
     "output_type": "execute_result"
    },
    {
     "data": {
      "image/png": "[encoded data removed]",
      "text/plain": [
       "<Figure size 1200x800 with 1 Axes>"
      ]
     },
     "metadata": {},
     "output_type": "display_data"
    }
   ],
   "source": [
    "import pandas as pd\n",
    "import seaborn as sns \n",
    "\n",
    "results_df = pd.DataFrame(results)\n",
    "\n",
    "# Plotting\n",
    "plt.figure(figsize=(12, 8))\n",
    "\n",
    "# Bar plots for accuracy, F1 score, precision, and specificity\n",
    "plt.subplot(2, 1, 1)\n",
    "sns.barplot(x='Kernel Type', y='value', hue='variable',\n",
    "            data=pd.melt(results_df, id_vars='Kernel Type',\n",
    "                         value_vars=['Accuracy', 'F1 Score', 'Precision', 'Specificity']))\n",
    "plt.title('Performance Metrics by Kernel Type')\n",
    "plt.ylabel('Score')\n",
    "plt.xlabel('Kernel Type')\n",
    "plt.ylim(0, 1)\n"
   ]
  },
  {
   "cell_type": "code",
   "execution_count": 9,
   "metadata": {},
   "outputs": [
    {
     "data": {
      "image/png": "[encoded data removed]",
      "text/plain": [
       "<Figure size 640x480 with 4 Axes>"
      ]
     },
     "metadata": {},
     "output_type": "display_data"
    }
   ],
   "source": [
    "plt.subplot(2, 1, 2)\n",
    "for kernel_type in kernels:\n",
    "    # Build an SVM model\n",
    "    svm_model = SVC(kernel=kernel_type)\n",
    "    svm_model.fit(cnn_features_train_flat, (y_train == 'parasitized'))\n",
    "\n",
    "    # Predict using the SVM model\n",
    "    y_pred = svm_model.predict(cnn_features_test_flat)\n",
    "\n",
    "    # Calculate confusion matrix\n",
    "    conf_matrix = confusion_matrix((y_test == 'parasitized'), y_pred)\n",
    "\n",
    "    # Plot heatmap\n",
    "    sns.heatmap(conf_matrix, annot=True, cmap='Blues', fmt='g',\n",
    "                xticklabels=['Predicted Normal', 'Predicted Parasitized'],\n",
    "                yticklabels=['Actual Normal', 'Actual Parasitized'])\n",
    "    plt.title(f'Confusion Matrix ({kernel_type} Kernel)')\n",
    "    plt.xlabel('Predicted Label')\n",
    "    plt.ylabel('True Label')\n",
    "    plt.tight_layout()\n",
    "\n",
    "plt.show()\n"
   ]
  }
 ],
 "metadata": {
  "kernelspec": {
   "display_name": "Python 3.11.0 64-bit",
   "language": "python",
   "name": "python3"
  },
  "language_info": {
   "codemirror_mode": {
    "name": "ipython",
    "version": 3
   },
   "file_extension": ".py",
   "mimetype": "text/x-python",
   "name": "python",
   "nbconvert_exporter": "python",
   "pygments_lexer": "ipython3",
   "version": "3.11.0"
  },
  "vscode": {
   "interpreter": {
    "hash": "5238573367df39f7286bb46f9ff5f08f63a01a80960060ce41e3c79b190280fa"
   }
  }
 },
 "nbformat": 4,
 "nbformat_minor": 2
}
