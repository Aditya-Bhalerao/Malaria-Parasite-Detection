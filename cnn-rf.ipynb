{
 "cells": [
  {
   "cell_type": "code",
   "execution_count": 5,
   "metadata": {},
   "outputs": [],
   "source": [
    "import warnings\n",
    "warnings.filterwarnings('ignore')\n",
    "import os\n",
    "import numpy as np\n",
    "import pandas as pd\n",
    "\n",
    "from sklearn.model_selection import train_test_split\n",
    "from sklearn.ensemble import RandomForestClassifier\n",
    "from sklearn.metrics import accuracy_score\n",
    "\n",
    "import tensorflow as tf\n",
    "from tensorflow.keras.layers import BatchNormalization\n",
    "from tensorflow.keras import Sequential\n",
    "from tensorflow.keras.layers import Conv2D, MaxPooling2D, Activation, Dropout, Flatten, Dense\n",
    "from tensorflow.keras.callbacks import EarlyStopping\n",
    "from tensorflow.keras.preprocessing.image import ImageDataGenerator\n",
    "from tensorflow.keras.applications.vgg19 import VGG19\n",
    "from tensorflow.keras.applications.inception_v3 import InceptionV3, preprocess_input\n",
    "from tensorflow.keras.applications import resnet50\n",
    "from tensorflow.keras.models import Model\n",
    "from tensorflow.keras.layers import Input\n",
    "\n",
    "import cv2\n",
    "import matplotlib.pyplot as plt"
   ]
  },
  {
   "cell_type": "code",
   "execution_count": 6,
   "metadata": {},
   "outputs": [
    {
     "name": "stdout",
     "output_type": "stream",
     "text": [
      "./data\n",
      "./data/Uninfected\n",
      "./data/Parasitized\n",
      "./data/cell_images\n",
      "./data/cell_images/Uninfected\n",
      "./data/cell_images/Parasitized\n"
     ]
    }
   ],
   "source": [
    "for dirname, _, filenames in os.walk('./data'):\n",
    "    print(dirname)"
   ]
  },
  {
   "cell_type": "code",
   "execution_count": 7,
   "metadata": {},
   "outputs": [],
   "source": [
    "def data_prep(parasitized, uninfected):\n",
    "    \n",
    "    parasitized = [\"./data/Parasitized\" + '/' +  parasitize for parasitize in parasitized]\n",
    "    uninfected = [\"./data/Uninfected\" + '/' +  uninfect for uninfect in uninfected]\n",
    "\n",
    "    labels = len(parasitized) * ['parasitized'] + len(uninfected) * ['uninfected']\n",
    "    data = parasitized + uninfected\n",
    "\n",
    "    return pd.DataFrame({'Image_Path': data , 'Labels': labels})"
   ]
  },
  {
   "cell_type": "code",
   "execution_count": 8,
   "metadata": {},
   "outputs": [],
   "source": [
    "df = data_prep(os.listdir(\"./data/Parasitized/\"), os.listdir(\"./data/Uninfected/\"))"
   ]
  },
  {
   "cell_type": "code",
   "execution_count": 10,
   "metadata": {},
   "outputs": [
    {
     "name": "stdout",
     "output_type": "stream",
     "text": [
      "Epoch 1/30\n",
      "552/552 [==============================] - 84s 147ms/step - loss: 0.4059 - accuracy: 0.8272 - val_loss: 0.1958 - val_accuracy: 0.9338\n",
      "Epoch 2/30\n",
      "552/552 [==============================] - 78s 142ms/step - loss: 0.2001 - accuracy: 0.9358 - val_loss: 0.1485 - val_accuracy: 0.9546\n",
      "Epoch 3/30\n",
      "552/552 [==============================] - 79s 143ms/step - loss: 0.1734 - accuracy: 0.9461 - val_loss: 0.1396 - val_accuracy: 0.9537\n",
      "Epoch 4/30\n",
      "552/552 [==============================] - 81s 147ms/step - loss: 0.1483 - accuracy: 0.9516 - val_loss: 0.1419 - val_accuracy: 0.9578\n",
      "Epoch 5/30\n",
      "552/552 [==============================] - 79s 143ms/step - loss: 0.1382 - accuracy: 0.9555 - val_loss: 0.1245 - val_accuracy: 0.9578\n",
      "Epoch 6/30\n",
      "552/552 [==============================] - 80s 145ms/step - loss: 0.1269 - accuracy: 0.9598 - val_loss: 0.1402 - val_accuracy: 0.9599\n",
      "Epoch 7/30\n",
      "552/552 [==============================] - 81s 146ms/step - loss: 0.1242 - accuracy: 0.9588 - val_loss: 0.1501 - val_accuracy: 0.9533\n",
      "Epoch 8/30\n",
      "552/552 [==============================] - 84s 152ms/step - loss: 0.1185 - accuracy: 0.9597 - val_loss: 0.1324 - val_accuracy: 0.9544\n",
      "Epoch 9/30\n",
      "552/552 [==============================] - 109s 197ms/step - loss: 0.1054 - accuracy: 0.9647 - val_loss: 0.1278 - val_accuracy: 0.9628\n",
      "Epoch 10/30\n",
      "552/552 [==============================] - 126s 229ms/step - loss: 0.1024 - accuracy: 0.9677 - val_loss: 0.1439 - val_accuracy: 0.9569\n",
      "Epoch 11/30\n",
      "552/552 [==============================] - 128s 231ms/step - loss: 0.1013 - accuracy: 0.9686 - val_loss: 0.1465 - val_accuracy: 0.9467\n",
      "Epoch 12/30\n",
      "552/552 [==============================] - 123s 223ms/step - loss: 0.0868 - accuracy: 0.9706 - val_loss: 0.1402 - val_accuracy: 0.9576\n",
      "Epoch 13/30\n",
      "552/552 [==============================] - 100s 182ms/step - loss: 0.0786 - accuracy: 0.9736 - val_loss: 0.1609 - val_accuracy: 0.9558\n",
      "Epoch 14/30\n",
      "552/552 [==============================] - 96s 175ms/step - loss: 0.0643 - accuracy: 0.9788 - val_loss: 0.1513 - val_accuracy: 0.9528\n",
      "Epoch 15/30\n",
      "552/552 [==============================] - 92s 166ms/step - loss: 0.0600 - accuracy: 0.9806 - val_loss: 0.1477 - val_accuracy: 0.9533\n",
      "Epoch 16/30\n",
      "552/552 [==============================] - 89s 161ms/step - loss: 0.0536 - accuracy: 0.9823 - val_loss: 0.1613 - val_accuracy: 0.9562\n",
      "Epoch 17/30\n",
      "361/552 [==================>...........] - ETA: 31s - loss: 0.0500 - accuracy: 0.9835"
     ]
    }
   ],
   "source": [
    "# Function to load and preprocess images\n",
    "def load_images(file_paths, target_size=(64, 64)):\n",
    "    images = []\n",
    "    for path in file_paths:\n",
    "        img = cv2.imread(path)\n",
    "        img = cv2.resize(img, target_size)\n",
    "        images.append(img)\n",
    "    return np.array(images)\n",
    "\n",
    "# Load and preprocess images\n",
    "# Assuming df is your DataFrame with 'Image_Path' and 'Labels' columns\n",
    "# Make sure to replace df with your actual DataFrame variable\n",
    "X = load_images(df['Image_Path'])\n",
    "y = df['Labels']\n",
    "\n",
    "# Split the dataset into training and testing sets\n",
    "X_train, X_test, y_train, y_test = train_test_split(X, y, test_size=0.2, random_state=42)\n",
    "\n",
    "# Build an improved CNN model\n",
    "model = Sequential()\n",
    "model.add(Conv2D(32, (3, 3), activation='relu', input_shape=(64, 64, 3)))\n",
    "model.add(MaxPooling2D((2, 2)))\n",
    "model.add(BatchNormalization())  \n",
    "model.add(Conv2D(64, (3, 3), activation='relu'))\n",
    "model.add(MaxPooling2D((2, 2)))\n",
    "model.add(BatchNormalization())\n",
    "model.add(Conv2D(128, (3, 3), activation='relu'))\n",
    "model.add(MaxPooling2D((2, 2)))\n",
    "model.add(BatchNormalization())\n",
    "model.add(Flatten())\n",
    "model.add(Dense(256, activation='relu'))  \n",
    "model.add(Dropout(0.5))\n",
    "model.add(Dense(128, activation='relu'))  \n",
    "model.add(Dropout(0.5))\n",
    "model.add(Dense(64, activation='relu'))  \n",
    "model.add(Dense(1, activation='sigmoid'))\n",
    "\n",
    "model.compile(optimizer='adam', loss='binary_crossentropy', metrics=['accuracy'])\n",
    "\n",
    "# Train the CNN model\n",
    "model.fit(X_train, (y_train == 'parasitized').astype(int), epochs=30, batch_size=32, validation_split=0.2)\n",
    "\n",
    "# Extract features from the CNN model\n",
    "cnn_features_train = model.predict(X_train)\n",
    "cnn_features_test = model.predict(X_test)\n",
    "\n",
    "# Reshape features for Random Forest\n",
    "cnn_features_train = cnn_features_train.reshape(cnn_features_train.shape[0], -1)\n",
    "cnn_features_test = cnn_features_test.reshape(cnn_features_test.shape[0], -1)\n",
    "\n",
    "# Build a Random Forest model\n",
    "rf_model = RandomForestClassifier(n_estimators=100, random_state=42)\n",
    "rf_model.fit(cnn_features_train, (y_train == 'parasitized'))\n",
    "\n",
    "# Predict using the hybrid model (Random Forest)\n",
    "rf_predictions = rf_model.predict(cnn_features_test)\n",
    "\n",
    "# Evaluate the hybrid model (Random Forest)\n",
    "rf_accuracy = accuracy_score((y_test == 'parasitized'), rf_predictions)\n",
    "print()\n",
    "print(f\"Accuracy of the hybrid model with Random Forest: {rf_accuracy*100}\")\n",
    "\n",
    "# Save models\n",
    "if not os.path.exists('cnn-knn-models'):\n",
    "    os.makedirs('cnn-rf-models')\n",
    "\n",
    "# Save CNN model\n",
    "rf_model.save('cnn-rf-models/cnn_model.h5')\n",
    "\n",
    "# Save KNN model\n",
    "import joblib\n",
    "joblib.dump(rf_model, 'cnn-rn-models/knn_model.joblib')"
   ]
  }
 ],
 "metadata": {
  "kernelspec": {
   "display_name": "Python 3",
   "language": "python",
   "name": "python3"
  },
  "language_info": {
   "codemirror_mode": {
    "name": "ipython",
    "version": 3
   },
   "file_extension": ".py",
   "mimetype": "text/x-python",
   "name": "python",
   "nbconvert_exporter": "python",
   "pygments_lexer": "ipython3",
   "version": "3.10.12"
  }
 },
 "nbformat": 4,
 "nbformat_minor": 2
}
