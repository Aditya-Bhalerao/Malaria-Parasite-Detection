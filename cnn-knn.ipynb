{
 "cells": [
  {
   "cell_type": "code",
   "execution_count": 1,
   "id": "b9bae23e-7dcf-4b18-bdcc-fd5dd937ba63",
   "metadata": {},
   "outputs": [],
   "source": [
    "import warnings\n",
    "warnings.filterwarnings('ignore')"
   ]
  },
  {
   "cell_type": "code",
   "execution_count": 2,
   "id": "5cce6b4a-1db8-49ed-b08d-c3b0a851df25",
   "metadata": {},
   "outputs": [
    {
     "name": "stderr",
     "output_type": "stream",
     "text": [
      "2024-03-16 13:42:28.090788: I external/local_tsl/tsl/cuda/cudart_stub.cc:31] Could not find cuda drivers on your machine, GPU will not be used.\n",
      "2024-03-16 13:42:28.122177: E external/local_xla/xla/stream_executor/cuda/cuda_dnn.cc:9261] Unable to register cuDNN factory: Attempting to register factory for plugin cuDNN when one has already been registered\n",
      "2024-03-16 13:42:28.122208: E external/local_xla/xla/stream_executor/cuda/cuda_fft.cc:607] Unable to register cuFFT factory: Attempting to register factory for plugin cuFFT when one has already been registered\n",
      "2024-03-16 13:42:28.122973: E external/local_xla/xla/stream_executor/cuda/cuda_blas.cc:1515] Unable to register cuBLAS factory: Attempting to register factory for plugin cuBLAS when one has already been registered\n",
      "2024-03-16 13:42:28.127967: I external/local_tsl/tsl/cuda/cudart_stub.cc:31] Could not find cuda drivers on your machine, GPU will not be used.\n",
      "2024-03-16 13:42:28.128493: I tensorflow/core/platform/cpu_feature_guard.cc:182] This TensorFlow binary is optimized to use available CPU instructions in performance-critical operations.\n",
      "To enable the following instructions: AVX2 FMA, in other operations, rebuild TensorFlow with the appropriate compiler flags.\n",
      "2024-03-16 13:42:28.851834: W tensorflow/compiler/tf2tensorrt/utils/py_utils.cc:38] TF-TRT Warning: Could not find TensorRT\n"
     ]
    }
   ],
   "source": [
    "import os\n",
    "import numpy as np \n",
    "import pandas as pd \n",
    "\n",
    "from sklearn.model_selection import train_test_split \n",
    "from sklearn.neighbors import KNeighborsClassifier\n",
    "from sklearn.metrics import accuracy_score\n",
    "\n",
    "import tensorflow as tf\n",
    "import keras\n",
    "from tensorflow.keras import Sequential\n",
    "from keras.layers import Conv2D, MaxPooling2D, Activation, Dropout, Flatten, Dense\n",
    "from keras.callbacks import EarlyStopping \n",
    "from tensorflow.keras.preprocessing.image import ImageDataGenerator\n",
    "from keras.applications.vgg19 import VGG19\n",
    "from keras.applications.inception_v3 import InceptionV3, preprocess_input\n",
    "from keras import models, layers\n",
    "from keras.applications import resnet50\n",
    "from keras.models import Model\n",
    "from keras.layers import Input\n",
    "\n",
    "import matplotlib.pyplot as plt\n",
    "import cv2"
   ]
  },
  {
   "cell_type": "code",
   "execution_count": 3,
   "id": "c8981fcc-ec18-40b9-b34e-c28ae22ae238",
   "metadata": {},
   "outputs": [
    {
     "name": "stdout",
     "output_type": "stream",
     "text": [
      "./data\n",
      "./data/Uninfected\n",
      "./data/Parasitized\n",
      "./data/cell_images\n",
      "./data/cell_images/Uninfected\n",
      "./data/cell_images/Parasitized\n"
     ]
    }
   ],
   "source": [
    "for dirname, _, filenames in os.walk('./data'):\n",
    "    print(dirname)"
   ]
  },
  {
   "cell_type": "code",
   "execution_count": 4,
   "id": "374374b3-6d7f-4df4-a015-a79ef1535193",
   "metadata": {},
   "outputs": [],
   "source": [
    "def data_prep(parasitized, uninfected):\n",
    "    \n",
    "    parasitized = [\"./data/Parasitized\" + '/' +  parasitize for parasitize in parasitized]\n",
    "    uninfected = [\"./data/Uninfected\" + '/' +  uninfect for uninfect in uninfected]\n",
    "\n",
    "    labels = len(parasitized) * ['parasitized'] + len(uninfected) * ['uninfected']\n",
    "    data = parasitized + uninfected\n",
    "\n",
    "    return pd.DataFrame({'Image_Path': data , 'Labels': labels})"
   ]
  },
  {
   "cell_type": "code",
   "execution_count": 5,
   "id": "ec274ea4-711d-4568-9429-0e5365ead4ef",
   "metadata": {},
   "outputs": [],
   "source": [
    "df = data_prep(os.listdir(\"./data/Parasitized/\"), os.listdir(\"./data/Uninfected/\"))"
   ]
  },
  {
   "cell_type": "code",
   "execution_count": 6,
   "id": "29e1991a-404e-4116-8d3a-7b9aedeaca40",
   "metadata": {},
   "outputs": [
    {
     "name": "stdout",
     "output_type": "stream",
     "text": [
      "Shape of the DataFrame: (27558, 2)\n",
      "\n",
      "Head of the DataFrame:\n",
      "                                          Image_Path       Labels\n",
      "0  ./data/Parasitized/C137P98ThinF_IMG_20151005_1...  parasitized\n",
      "1  ./data/Parasitized/C133P94ThinF_IMG_20151004_1...  parasitized\n",
      "2  ./data/Parasitized/C39P4thinF_original_IMG_201...  parasitized\n",
      "3  ./data/Parasitized/C70P31_ThinF_IMG_20150819_1...  parasitized\n",
      "4  ./data/Parasitized/C132P93ThinF_IMG_20151004_1...  parasitized\n",
      "\n",
      "Tail of the DataFrame:\n",
      "                                              Image_Path      Labels\n",
      "27553  ./data/Uninfected/C145P106ThinF_IMG_20151016_1...  uninfected\n",
      "27554  ./data/Uninfected/C72P33_ThinF_IMG_20150815_10...  uninfected\n",
      "27555  ./data/Uninfected/C101P62ThinF_IMG_20150918_15...  uninfected\n",
      "27556  ./data/Uninfected/C7NthinF_IMG_20150611_105444...  uninfected\n",
      "27557  ./data/Uninfected/C183P144NThinF_IMG_20151201_...  uninfected\n"
     ]
    }
   ],
   "source": [
    "print(\"Shape of the DataFrame:\", df.shape)\n",
    "print(\"\\nHead of the DataFrame:\")\n",
    "print(df.head())\n",
    "print(\"\\nTail of the DataFrame:\")\n",
    "print(df.tail())"
   ]
  },
  {
   "cell_type": "code",
   "execution_count": 8,
   "id": "f51dd0ee-ac77-44f0-83c5-7bd59ac0ba7c",
   "metadata": {},
   "outputs": [
    {
     "name": "stdout",
     "output_type": "stream",
     "text": [
      "Epoch 1/10\n",
      "552/552 [==============================] - 40s 70ms/step - loss: 0.4362 - accuracy: 0.8095 - val_loss: 0.1897 - val_accuracy: 0.9354\n",
      "Epoch 2/10\n",
      "552/552 [==============================] - 39s 71ms/step - loss: 0.1913 - accuracy: 0.9371 - val_loss: 0.1584 - val_accuracy: 0.9528\n",
      "Epoch 3/10\n",
      "552/552 [==============================] - 43s 78ms/step - loss: 0.1722 - accuracy: 0.9462 - val_loss: 0.1486 - val_accuracy: 0.9567\n",
      "Epoch 4/10\n",
      "552/552 [==============================] - 41s 73ms/step - loss: 0.1544 - accuracy: 0.9518 - val_loss: 0.1597 - val_accuracy: 0.9553\n",
      "Epoch 5/10\n",
      "552/552 [==============================] - 41s 74ms/step - loss: 0.1427 - accuracy: 0.9541 - val_loss: 0.1277 - val_accuracy: 0.9583\n",
      "Epoch 6/10\n",
      "552/552 [==============================] - 41s 74ms/step - loss: 0.1266 - accuracy: 0.9580 - val_loss: 0.1167 - val_accuracy: 0.9615\n",
      "Epoch 7/10\n",
      "552/552 [==============================] - 40s 73ms/step - loss: 0.1257 - accuracy: 0.9591 - val_loss: 0.1350 - val_accuracy: 0.9562\n",
      "Epoch 8/10\n",
      "552/552 [==============================] - 41s 73ms/step - loss: 0.1167 - accuracy: 0.9618 - val_loss: 0.1192 - val_accuracy: 0.9615\n",
      "Epoch 9/10\n",
      "552/552 [==============================] - 41s 74ms/step - loss: 0.1118 - accuracy: 0.9627 - val_loss: 0.1535 - val_accuracy: 0.9549\n",
      "Epoch 10/10\n",
      "170/552 [========>.....................] - ETA: 26s - loss: 0.0948 - accuracy: 0.9676"
     ]
    }
   ],
   "source": [
    "from tensorflow.keras.layers import BatchNormalization\n",
    "# Function to load and preprocess images\n",
    "def load_images(file_paths, target_size=(64, 64)):\n",
    "    images = []\n",
    "    for path in file_paths:\n",
    "        img = cv2.imread(path)\n",
    "        img = cv2.resize(img, target_size)\n",
    "        images.append(img)\n",
    "    return np.array(images)\n",
    "\n",
    "# Load and preprocess images\n",
    "X = load_images(df['Image_Path'])\n",
    "y = df['Labels']\n",
    "\n",
    "# Split the dataset into training and testing sets\n",
    "X_train, X_test, y_train, y_test = train_test_split(X, y, test_size=0.2, random_state=42)\n",
    "\n",
    "\n",
    "# Build an improved CNN model\n",
    "model = Sequential()\n",
    "model.add(Conv2D(32, (3, 3), activation='relu', input_shape=(64, 64, 3)))\n",
    "model.add(MaxPooling2D((2, 2)))\n",
    "model.add(BatchNormalization())  # Adding Batch Normalization to stabilize and accelerate the training process\n",
    "model.add(Conv2D(64, (3, 3), activation='relu'))\n",
    "model.add(MaxPooling2D((2, 2)))\n",
    "model.add(BatchNormalization())\n",
    "model.add(Conv2D(128, (3, 3), activation='relu'))\n",
    "model.add(MaxPooling2D((2, 2)))\n",
    "model.add(BatchNormalization())\n",
    "model.add(Flatten())\n",
    "model.add(Dense(256, activation='relu'))  # Increased the number of neurons in the fully connected layer\n",
    "model.add(Dropout(0.5))\n",
    "model.add(Dense(128, activation='relu'))  # Additional dense layer\n",
    "model.add(Dropout(0.5))\n",
    "model.add(Dense(64, activation='relu'))  # Additional dense layer\n",
    "model.add(Dense(1, activation='sigmoid'))\n",
    "\n",
    "model.compile(optimizer='adam', loss='binary_crossentropy', metrics=['accuracy'])\n",
    "\n",
    "# Train the improved CNN model\n",
    "model.fit(X_train, (y_train == 'parasitized').astype(int), epochs=10, batch_size=32, validation_split=0.2)\n",
    "\n",
    "\n",
    "# Extract features from the CNN model\n",
    "cnn_features_train = model.predict(X_train)\n",
    "cnn_features_test = model.predict(X_test)\n",
    "\n",
    "# Reshape features for KNN\n",
    "cnn_features_train = cnn_features_train.reshape(cnn_features_train.shape[0], -1)\n",
    "cnn_features_test = cnn_features_test.reshape(cnn_features_test.shape[0], -1)\n",
    "\n",
    "# Build a KNN model\n",
    "knn_model = KNeighborsClassifier(n_neighbors=3)\n",
    "knn_model.fit(cnn_features_train, (y_train == 'parasitized'))\n",
    "\n",
    "# Predict using the hybrid model\n",
    "knn_predictions = knn_model.predict(cnn_features_test)\n",
    "\n",
    "# Evaluate the hybrid model\n",
    "accuracy = accuracy_score((y_test == 'parasitized'), knn_predictions)\n",
    "print()\n",
    "print(f\"Accuracy of the hybrid model: {accuracy*100}\")"
   ]
  },
  {
   "cell_type": "code",
   "execution_count": null,
   "id": "4871efd1-57f4-4c65-af8f-aaf00dd3e591",
   "metadata": {},
   "outputs": [],
   "source": []
  }
 ],
 "metadata": {
  "kernelspec": {
   "display_name": "Python 3 (ipykernel)",
   "language": "python",
   "name": "python3"
  },
  "language_info": {
   "codemirror_mode": {
    "name": "ipython",
    "version": 3
   },
   "file_extension": ".py",
   "mimetype": "text/x-python",
   "name": "python",
   "nbconvert_exporter": "python",
   "pygments_lexer": "ipython3",
   "version": "3.10.12"
  }
 },
 "nbformat": 4,
 "nbformat_minor": 5
}
