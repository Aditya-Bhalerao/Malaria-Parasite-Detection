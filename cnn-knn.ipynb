{
 "cells": [
  {
   "cell_type": "code",
   "execution_count": 2,
   "id": "b9bae23e-7dcf-4b18-bdcc-fd5dd937ba63",
   "metadata": {},
   "outputs": [],
   "source": [
    "import warnings\n",
    "warnings.filterwarnings('ignore')"
   ]
  },
  {
   "cell_type": "code",
   "execution_count": 10,
   "id": "5cce6b4a-1db8-49ed-b08d-c3b0a851df25",
   "metadata": {},
   "outputs": [],
   "source": [
    "import os\n",
    "import numpy as np \n",
    "import pandas as pd \n",
    "\n",
    "from sklearn.model_selection import train_test_split \n",
    "from sklearn.neighbors import KNeighborsClassifier\n",
    "from sklearn.metrics import accuracy_score\n",
    "\n",
    "import tensorflow as tf\n",
    "from tensorflow.keras.layers import BatchNormalization\n",
    "from tensorflow.keras import Sequential\n",
    "from keras.layers import Conv2D, MaxPooling2D, Activation, Dropout, Flatten, Dense\n",
    "from keras.callbacks import EarlyStopping \n",
    "from tensorflow.keras.preprocessing.image import ImageDataGenerator\n",
    "from keras.applications.vgg19 import VGG19\n",
    "from keras.applications.inception_v3 import InceptionV3, preprocess_input\n",
    "from keras import models, layers\n",
    "from keras.applications import resnet50\n",
    "from keras.models import Model\n",
    "from keras.layers import Input\n",
    "\n",
    "import matplotlib.pyplot as plt\n",
    "import cv2"
   ]
  },
  {
   "cell_type": "code",
   "execution_count": 4,
   "id": "c8981fcc-ec18-40b9-b34e-c28ae22ae238",
   "metadata": {},
   "outputs": [
    {
     "name": "stdout",
     "output_type": "stream",
     "text": [
      "./data\n",
      "./data/Uninfected\n",
      "./data/Parasitized\n",
      "./data/cell_images\n",
      "./data/cell_images/Uninfected\n",
      "./data/cell_images/Parasitized\n"
     ]
    }
   ],
   "source": [
    "for dirname, _, filenames in os.walk('./data'):\n",
    "    print(dirname)"
   ]
  },
  {
   "cell_type": "code",
   "execution_count": 5,
   "id": "374374b3-6d7f-4df4-a015-a79ef1535193",
   "metadata": {},
   "outputs": [],
   "source": [
    "def data_prep(parasitized, uninfected):\n",
    "    \n",
    "    parasitized = [\"./data/Parasitized\" + '/' +  parasitize for parasitize in parasitized]\n",
    "    uninfected = [\"./data/Uninfected\" + '/' +  uninfect for uninfect in uninfected]\n",
    "\n",
    "    labels = len(parasitized) * ['parasitized'] + len(uninfected) * ['uninfected']\n",
    "    data = parasitized + uninfected\n",
    "\n",
    "    return pd.DataFrame({'Image_Path': data , 'Labels': labels})"
   ]
  },
  {
   "cell_type": "code",
   "execution_count": 6,
   "id": "ec274ea4-711d-4568-9429-0e5365ead4ef",
   "metadata": {},
   "outputs": [],
   "source": [
    "df = data_prep(os.listdir(\"./data/Parasitized/\"), os.listdir(\"./data/Uninfected/\"))"
   ]
  },
  {
   "cell_type": "code",
   "execution_count": 7,
   "id": "29e1991a-404e-4116-8d3a-7b9aedeaca40",
   "metadata": {},
   "outputs": [
    {
     "name": "stdout",
     "output_type": "stream",
     "text": [
      "Shape of the DataFrame: (27558, 2)\n",
      "\n",
      "Head of the DataFrame:\n",
      "                                          Image_Path       Labels\n",
      "0  ./data/Parasitized/C137P98ThinF_IMG_20151005_1...  parasitized\n",
      "1  ./data/Parasitized/C133P94ThinF_IMG_20151004_1...  parasitized\n",
      "2  ./data/Parasitized/C39P4thinF_original_IMG_201...  parasitized\n",
      "3  ./data/Parasitized/C70P31_ThinF_IMG_20150819_1...  parasitized\n",
      "4  ./data/Parasitized/C132P93ThinF_IMG_20151004_1...  parasitized\n",
      "\n",
      "Tail of the DataFrame:\n",
      "                                              Image_Path      Labels\n",
      "27553  ./data/Uninfected/C145P106ThinF_IMG_20151016_1...  uninfected\n",
      "27554  ./data/Uninfected/C72P33_ThinF_IMG_20150815_10...  uninfected\n",
      "27555  ./data/Uninfected/C101P62ThinF_IMG_20150918_15...  uninfected\n",
      "27556  ./data/Uninfected/C7NthinF_IMG_20150611_105444...  uninfected\n",
      "27557  ./data/Uninfected/C183P144NThinF_IMG_20151201_...  uninfected\n"
     ]
    }
   ],
   "source": [
    "print(\"Shape of the DataFrame:\", df.shape)\n",
    "print(\"\\nHead of the DataFrame:\")\n",
    "print(df.head())\n",
    "print(\"\\nTail of the DataFrame:\")\n",
    "print(df.tail())"
   ]
  },
  {
   "cell_type": "code",
   "execution_count": 11,
   "id": "f51dd0ee-ac77-44f0-83c5-7bd59ac0ba7c",
   "metadata": {},
   "outputs": [
    {
     "name": "stdout",
     "output_type": "stream",
     "text": [
      "Epoch 1/30\n",
      "552/552 [==============================] - 38s 65ms/step - loss: 0.4673 - accuracy: 0.7972 - val_loss: 0.1890 - val_accuracy: 0.9327\n",
      "Epoch 2/30\n",
      "552/552 [==============================] - 35s 64ms/step - loss: 0.2066 - accuracy: 0.9347 - val_loss: 0.1893 - val_accuracy: 0.9327\n",
      "Epoch 3/30\n",
      "552/552 [==============================] - 35s 64ms/step - loss: 0.1813 - accuracy: 0.9422 - val_loss: 0.1463 - val_accuracy: 0.9556\n",
      "Epoch 4/30\n",
      "552/552 [==============================] - 36s 65ms/step - loss: 0.1632 - accuracy: 0.9500 - val_loss: 0.1734 - val_accuracy: 0.9499\n",
      "Epoch 5/30\n",
      "552/552 [==============================] - 34s 62ms/step - loss: 0.1501 - accuracy: 0.9532 - val_loss: 0.1362 - val_accuracy: 0.9562\n",
      "Epoch 6/30\n",
      "552/552 [==============================] - 36s 65ms/step - loss: 0.1422 - accuracy: 0.9566 - val_loss: 0.2194 - val_accuracy: 0.9517\n",
      "Epoch 7/30\n",
      "552/552 [==============================] - 37s 67ms/step - loss: 0.1309 - accuracy: 0.9582 - val_loss: 0.2104 - val_accuracy: 0.9551\n",
      "Epoch 8/30\n",
      "552/552 [==============================] - 38s 69ms/step - loss: 0.1268 - accuracy: 0.9596 - val_loss: 0.1352 - val_accuracy: 0.9569\n",
      "Epoch 9/30\n",
      "552/552 [==============================] - 36s 65ms/step - loss: 0.1168 - accuracy: 0.9604 - val_loss: 0.1286 - val_accuracy: 0.9605\n",
      "Epoch 10/30\n",
      "552/552 [==============================] - 36s 65ms/step - loss: 0.1138 - accuracy: 0.9629 - val_loss: 0.1648 - val_accuracy: 0.9571\n",
      "Epoch 11/30\n",
      "552/552 [==============================] - 36s 65ms/step - loss: 0.1024 - accuracy: 0.9655 - val_loss: 0.1148 - val_accuracy: 0.9619\n",
      "Epoch 12/30\n",
      "552/552 [==============================] - 37s 66ms/step - loss: 0.0978 - accuracy: 0.9660 - val_loss: 0.1362 - val_accuracy: 0.9544\n",
      "Epoch 13/30\n",
      "552/552 [==============================] - 37s 67ms/step - loss: 0.0894 - accuracy: 0.9700 - val_loss: 0.1490 - val_accuracy: 0.9590\n",
      "Epoch 14/30\n",
      "552/552 [==============================] - 38s 69ms/step - loss: 0.0858 - accuracy: 0.9718 - val_loss: 0.1216 - val_accuracy: 0.9587\n",
      "Epoch 15/30\n",
      "552/552 [==============================] - 37s 68ms/step - loss: 0.0735 - accuracy: 0.9760 - val_loss: 0.1330 - val_accuracy: 0.9594\n",
      "Epoch 16/30\n",
      "552/552 [==============================] - 41s 74ms/step - loss: 0.0654 - accuracy: 0.9791 - val_loss: 0.1682 - val_accuracy: 0.9490\n",
      "Epoch 17/30\n",
      "552/552 [==============================] - 46s 84ms/step - loss: 0.0664 - accuracy: 0.9782 - val_loss: 0.1428 - val_accuracy: 0.9580\n",
      "Epoch 18/30\n",
      "552/552 [==============================] - 55s 100ms/step - loss: 0.0558 - accuracy: 0.9816 - val_loss: 0.1431 - val_accuracy: 0.9562\n",
      "Epoch 19/30\n",
      "552/552 [==============================] - 77s 139ms/step - loss: 0.0532 - accuracy: 0.9838 - val_loss: 0.1715 - val_accuracy: 0.9562\n",
      "Epoch 20/30\n",
      "552/552 [==============================] - 74s 133ms/step - loss: 0.0446 - accuracy: 0.9855 - val_loss: 0.1753 - val_accuracy: 0.9574\n",
      "Epoch 21/30\n",
      "552/552 [==============================] - 77s 139ms/step - loss: 0.0427 - accuracy: 0.9860 - val_loss: 0.1684 - val_accuracy: 0.9569\n",
      "Epoch 22/30\n",
      "552/552 [==============================] - 80s 144ms/step - loss: 0.0380 - accuracy: 0.9872 - val_loss: 0.2087 - val_accuracy: 0.9356\n",
      "Epoch 23/30\n",
      "552/552 [==============================] - 77s 139ms/step - loss: 0.0355 - accuracy: 0.9880 - val_loss: 0.1885 - val_accuracy: 0.9512\n",
      "Epoch 24/30\n",
      "552/552 [==============================] - 77s 140ms/step - loss: 0.0337 - accuracy: 0.9897 - val_loss: 0.1875 - val_accuracy: 0.9524\n",
      "Epoch 25/30\n",
      "552/552 [==============================] - 77s 140ms/step - loss: 0.0342 - accuracy: 0.9892 - val_loss: 0.1763 - val_accuracy: 0.9565\n",
      "Epoch 26/30\n",
      "552/552 [==============================] - 82s 148ms/step - loss: 0.0235 - accuracy: 0.9927 - val_loss: 0.2657 - val_accuracy: 0.9519\n",
      "Epoch 27/30\n",
      "552/552 [==============================] - 110s 199ms/step - loss: 0.0259 - accuracy: 0.9918 - val_loss: 0.2612 - val_accuracy: 0.9567\n",
      "Epoch 28/30\n",
      "552/552 [==============================] - 121s 219ms/step - loss: 0.0300 - accuracy: 0.9913 - val_loss: 0.2623 - val_accuracy: 0.9522\n",
      "Epoch 29/30\n",
      "552/552 [==============================] - 124s 224ms/step - loss: 0.0230 - accuracy: 0.9931 - val_loss: 0.2194 - val_accuracy: 0.9490\n",
      "Epoch 30/30\n",
      "552/552 [==============================] - 121s 219ms/step - loss: 0.0211 - accuracy: 0.9934 - val_loss: 0.2523 - val_accuracy: 0.9526\n",
      "689/689 [==============================] - 41s 59ms/step\n",
      "173/173 [==============================] - 11s 61ms/step\n",
      "\n",
      "Accuracy of the hybrid model: 95.17416545718433\n"
     ]
    },
    {
     "data": {
      "text/plain": [
       "['cnn-knn-models/knn_model.joblib']"
      ]
     },
     "execution_count": 11,
     "metadata": {},
     "output_type": "execute_result"
    }
   ],
   "source": [
    "\n",
    "# Function to load and preprocess images\n",
    "def load_images(file_paths, target_size=(64, 64)):\n",
    "    images = []\n",
    "    for path in file_paths:\n",
    "        img = cv2.imread(path)\n",
    "        img = cv2.resize(img, target_size)\n",
    "        images.append(img)\n",
    "    return np.array(images)\n",
    "\n",
    "# Load and preprocess images\n",
    "X = load_images(df['Image_Path'])\n",
    "y = df['Labels']\n",
    "\n",
    "# Split the dataset into training and testing sets\n",
    "X_train, X_test, y_train, y_test = train_test_split(X, y, test_size=0.2, random_state=42)\n",
    "\n",
    "# Build an improved CNN model\n",
    "model = Sequential()\n",
    "model.add(Conv2D(32, (3, 3), activation='relu', input_shape=(64, 64, 3)))\n",
    "model.add(MaxPooling2D((2, 2)))\n",
    "model.add(BatchNormalization())  \n",
    "model.add(Conv2D(64, (3, 3), activation='relu'))\n",
    "model.add(MaxPooling2D((2, 2)))\n",
    "model.add(BatchNormalization())\n",
    "model.add(Conv2D(128, (3, 3), activation='relu'))\n",
    "model.add(MaxPooling2D((2, 2)))\n",
    "model.add(BatchNormalization())\n",
    "model.add(Flatten())\n",
    "model.add(Dense(256, activation='relu'))  \n",
    "model.add(Dropout(0.5))\n",
    "model.add(Dense(128, activation='relu'))  \n",
    "model.add(Dropout(0.5))\n",
    "model.add(Dense(64, activation='relu'))  \n",
    "model.add(Dense(1, activation='sigmoid'))\n",
    "\n",
    "model.compile(optimizer='adam', loss='binary_crossentropy', metrics=['accuracy'])\n",
    "\n",
    "# Train the improved CNN model\n",
    "model.fit(X_train, (y_train == 'parasitized').astype(int), epochs=30, batch_size=32, validation_split=0.2)\n",
    "\n",
    "# Extract features from the CNN model\n",
    "cnn_features_train = model.predict(X_train)\n",
    "cnn_features_test = model.predict(X_test)\n",
    "\n",
    "# Reshape features for KNN\n",
    "cnn_features_train = cnn_features_train.reshape(cnn_features_train.shape[0], -1)\n",
    "cnn_features_test = cnn_features_test.reshape(cnn_features_test.shape[0], -1)\n",
    "\n",
    "# Build a KNN model\n",
    "knn_model = KNeighborsClassifier(n_neighbors=3)\n",
    "knn_model.fit(cnn_features_train, (y_train == 'parasitized'))\n",
    "\n",
    "# Predict using the hybrid model\n",
    "knn_predictions = knn_model.predict(cnn_features_test)\n",
    "\n",
    "# Evaluate the hybrid model\n",
    "accuracy = accuracy_score((y_test == 'parasitized'), knn_predictions)\n",
    "print()\n",
    "print(f\"Accuracy of the hybrid model: {accuracy*100}\")\n",
    "\n",
    "# Save models\n",
    "if not os.path.exists('cnn-knn-models'):\n",
    "    os.makedirs('cnn-knn-models')\n",
    "\n",
    "# Save CNN model\n",
    "knn_model.save('cnn-knn-models/knn_model.h5')\n",
    "\n",
    "# Save KNN model\n",
    "import joblib\n",
    "joblib.dump(knn_model, 'cnn-knn-models/knn_model.joblib')"
   ]
  }
 ],
 "metadata": {
  "kernelspec": {
   "display_name": "Python 3 (ipykernel)",
   "language": "python",
   "name": "python3"
  },
  "language_info": {
   "codemirror_mode": {
    "name": "ipython",
    "version": 3
   },
   "file_extension": ".py",
   "mimetype": "text/x-python",
   "name": "python",
   "nbconvert_exporter": "python",
   "pygments_lexer": "ipython3",
   "version": "3.10.12"
  }
 },
 "nbformat": 4,
 "nbformat_minor": 5
}
