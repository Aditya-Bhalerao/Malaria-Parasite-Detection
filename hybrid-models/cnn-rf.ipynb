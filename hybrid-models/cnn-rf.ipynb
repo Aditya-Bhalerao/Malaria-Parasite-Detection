{
 "cells": [
  {
   "cell_type": "code",
   "execution_count": 1,
   "id": "b9bae23e-7dcf-4b18-bdcc-fd5dd937ba63",
   "metadata": {},
   "outputs": [],
   "source": [
    "import warnings\n",
    "warnings.filterwarnings('ignore')"
   ]
  },
  {
   "cell_type": "code",
   "execution_count": 2,
   "id": "5cce6b4a-1db8-49ed-b08d-c3b0a851df25",
   "metadata": {},
   "outputs": [
    {
     "name": "stderr",
     "output_type": "stream",
     "text": [
      "2024-02-04 21:10:45.466681: I external/local_tsl/tsl/cuda/cudart_stub.cc:31] Could not find cuda drivers on your machine, GPU will not be used.\n",
      "2024-02-04 21:10:45.502353: E external/local_xla/xla/stream_executor/cuda/cuda_dnn.cc:9261] Unable to register cuDNN factory: Attempting to register factory for plugin cuDNN when one has already been registered\n",
      "2024-02-04 21:10:45.502393: E external/local_xla/xla/stream_executor/cuda/cuda_fft.cc:607] Unable to register cuFFT factory: Attempting to register factory for plugin cuFFT when one has already been registered\n",
      "2024-02-04 21:10:45.503101: E external/local_xla/xla/stream_executor/cuda/cuda_blas.cc:1515] Unable to register cuBLAS factory: Attempting to register factory for plugin cuBLAS when one has already been registered\n",
      "2024-02-04 21:10:45.508369: I external/local_tsl/tsl/cuda/cudart_stub.cc:31] Could not find cuda drivers on your machine, GPU will not be used.\n",
      "2024-02-04 21:10:45.509211: I tensorflow/core/platform/cpu_feature_guard.cc:182] This TensorFlow binary is optimized to use available CPU instructions in performance-critical operations.\n",
      "To enable the following instructions: AVX2 FMA, in other operations, rebuild TensorFlow with the appropriate compiler flags.\n",
      "2024-02-04 21:10:46.150766: W tensorflow/compiler/tf2tensorrt/utils/py_utils.cc:38] TF-TRT Warning: Could not find TensorRT\n"
     ]
    }
   ],
   "source": [
    "import os\n",
    "import numpy as np\n",
    "import pandas as pd\n",
    "\n",
    "from sklearn.model_selection import train_test_split\n",
    "from sklearn.ensemble import RandomForestClassifier\n",
    "from sklearn.metrics import accuracy_score\n",
    "\n",
    "import tensorflow as tf\n",
    "from tensorflow.keras import Sequential\n",
    "from tensorflow.keras.layers import Conv2D, MaxPooling2D, Activation, Dropout, Flatten, Dense\n",
    "from tensorflow.keras.callbacks import EarlyStopping\n",
    "from tensorflow.keras.preprocessing.image import ImageDataGenerator\n",
    "from tensorflow.keras.applications.vgg19 import VGG19\n",
    "from tensorflow.keras.applications.inception_v3 import InceptionV3, preprocess_input\n",
    "from tensorflow.keras.applications import resnet50\n",
    "from tensorflow.keras.models import Model\n",
    "from tensorflow.keras.layers import Input\n",
    "\n",
    "import cv2\n",
    "import matplotlib.pyplot as plt"
   ]
  },
  {
   "cell_type": "code",
   "execution_count": 3,
   "id": "c8981fcc-ec18-40b9-b34e-c28ae22ae238",
   "metadata": {},
   "outputs": [
    {
     "name": "stdout",
     "output_type": "stream",
     "text": [
      "./data\n",
      "./data/cell_images\n",
      "./data/cell_images/cell_images\n",
      "./data/cell_images/cell_images/Parasitized\n",
      "./data/cell_images/cell_images/Uninfected\n",
      "./data/Parasitized\n",
      "./data/Uninfected\n"
     ]
    }
   ],
   "source": [
    "for dirname, _, filenames in os.walk('./data'):\n",
    "    print(dirname)"
   ]
  },
  {
   "cell_type": "code",
   "execution_count": 4,
   "id": "374374b3-6d7f-4df4-a015-a79ef1535193",
   "metadata": {},
   "outputs": [],
   "source": [
    "def data_prep(parasitized, uninfected):\n",
    "    \n",
    "    parasitized = [\"./data/Parasitized\" + '/' +  parasitize for parasitize in parasitized]\n",
    "    uninfected = [\"./data/Uninfected\" + '/' +  uninfect for uninfect in uninfected]\n",
    "\n",
    "    labels = len(parasitized) * ['parasitized'] + len(uninfected) * ['uninfected']\n",
    "    data = parasitized + uninfected\n",
    "\n",
    "    return pd.DataFrame({'Image_Path': data , 'Labels': labels})"
   ]
  },
  {
   "cell_type": "code",
   "execution_count": 5,
   "id": "ec274ea4-711d-4568-9429-0e5365ead4ef",
   "metadata": {},
   "outputs": [],
   "source": [
    "df = data_prep(os.listdir(\"./data/Parasitized/\"), os.listdir(\"./data/Uninfected/\"))"
   ]
  },
  {
   "cell_type": "code",
   "execution_count": 6,
   "id": "29e1991a-404e-4116-8d3a-7b9aedeaca40",
   "metadata": {},
   "outputs": [
    {
     "name": "stdout",
     "output_type": "stream",
     "text": [
      "Shape of the DataFrame: (27558, 2)\n",
      "\n",
      "Head of the DataFrame:\n",
      "                                          Image_Path       Labels\n",
      "0  ./data/Parasitized/C100P61ThinF_IMG_20150918_1...  parasitized\n",
      "1  ./data/Parasitized/C100P61ThinF_IMG_20150918_1...  parasitized\n",
      "2  ./data/Parasitized/C100P61ThinF_IMG_20150918_1...  parasitized\n",
      "3  ./data/Parasitized/C100P61ThinF_IMG_20150918_1...  parasitized\n",
      "4  ./data/Parasitized/C100P61ThinF_IMG_20150918_1...  parasitized\n",
      "\n",
      "Tail of the DataFrame:\n",
      "                                              Image_Path      Labels\n",
      "27553  ./data/Uninfected/C99P60ThinF_IMG_20150918_142...  uninfected\n",
      "27554  ./data/Uninfected/C99P60ThinF_IMG_20150918_142...  uninfected\n",
      "27555  ./data/Uninfected/C99P60ThinF_IMG_20150918_142...  uninfected\n",
      "27556  ./data/Uninfected/C99P60ThinF_IMG_20150918_142...  uninfected\n",
      "27557  ./data/Uninfected/C99P60ThinF_IMG_20150918_142...  uninfected\n"
     ]
    }
   ],
   "source": [
    "print(\"Shape of the DataFrame:\", df.shape)\n",
    "print(\"\\nHead of the DataFrame:\")\n",
    "print(df.head())\n",
    "print(\"\\nTail of the DataFrame:\")\n",
    "print(df.tail())"
   ]
  },
  {
   "cell_type": "code",
   "execution_count": null,
   "id": "eb55d5ff-e0f7-4ced-b3a0-50ba0caf762c",
   "metadata": {},
   "outputs": [],
   "source": []
  },
  {
   "cell_type": "code",
   "execution_count": null,
   "id": "38460845-bb34-46b1-ae14-00d60017b83e",
   "metadata": {},
   "outputs": [],
   "source": []
  },
  {
   "cell_type": "code",
   "execution_count": 7,
   "id": "f51dd0ee-ac77-44f0-83c5-7bd59ac0ba7c",
   "metadata": {},
   "outputs": [
    {
     "name": "stderr",
     "output_type": "stream",
     "text": [
      "2024-02-04 21:11:01.121383: W external/local_tsl/tsl/framework/cpu_allocator_impl.cc:83] Allocation of 216711168 exceeds 10% of free system memory.\n"
     ]
    },
    {
     "name": "stdout",
     "output_type": "stream",
     "text": [
      "Epoch 1/5\n",
      "552/552 [==============================] - ETA: 0s - loss: 11.2671 - accuracy: 0.6357"
     ]
    },
    {
     "name": "stderr",
     "output_type": "stream",
     "text": [
      "2024-02-04 21:12:14.536136: W external/local_tsl/tsl/framework/cpu_allocator_impl.cc:83] Allocation of 54190080 exceeds 10% of free system memory.\n"
     ]
    },
    {
     "name": "stdout",
     "output_type": "stream",
     "text": [
      "552/552 [==============================] - 77s 135ms/step - loss: 11.2671 - accuracy: 0.6357 - val_loss: 0.9448 - val_accuracy: 0.6889\n",
      "Epoch 2/5\n",
      "552/552 [==============================] - 79s 143ms/step - loss: 0.6069 - accuracy: 0.7692 - val_loss: 0.7655 - val_accuracy: 0.7261\n",
      "Epoch 3/5\n",
      "552/552 [==============================] - 78s 141ms/step - loss: 0.3982 - accuracy: 0.8392 - val_loss: 0.5166 - val_accuracy: 0.8190\n",
      "Epoch 4/5\n",
      "552/552 [==============================] - 75s 137ms/step - loss: 0.3119 - accuracy: 0.8833 - val_loss: 0.4844 - val_accuracy: 0.8159\n",
      "Epoch 5/5\n",
      "552/552 [==============================] - 71s 128ms/step - loss: 0.2405 - accuracy: 0.9123 - val_loss: 0.4245 - val_accuracy: 0.8281\n"
     ]
    },
    {
     "name": "stderr",
     "output_type": "stream",
     "text": [
      "2024-02-04 21:17:21.312731: W external/local_tsl/tsl/framework/cpu_allocator_impl.cc:83] Allocation of 270901248 exceeds 10% of free system memory.\n"
     ]
    },
    {
     "name": "stdout",
     "output_type": "stream",
     "text": [
      "689/689 [==============================] - 10s 14ms/step\n",
      " 13/173 [=>............................] - ETA: 1s"
     ]
    },
    {
     "name": "stderr",
     "output_type": "stream",
     "text": [
      "2024-02-04 21:17:31.751695: W external/local_tsl/tsl/framework/cpu_allocator_impl.cc:83] Allocation of 67731456 exceeds 10% of free system memory.\n"
     ]
    },
    {
     "name": "stdout",
     "output_type": "stream",
     "text": [
      "173/173 [==============================] - 1s 8ms/step\n",
      "\n",
      "Accuracy of the hybrid model with Random Forest: 80.17053701015965\n"
     ]
    }
   ],
   "source": [
    "# Function to load and preprocess images\n",
    "def load_images(file_paths, target_size=(64, 64)):\n",
    "    images = []\n",
    "    for path in file_paths:\n",
    "        img = cv2.imread(path)\n",
    "        img = cv2.resize(img, target_size)\n",
    "        images.append(img)\n",
    "    return np.array(images)\n",
    "\n",
    "# Load and preprocess images\n",
    "# Assuming df is your DataFrame with 'Image_Path' and 'Labels' columns\n",
    "# Make sure to replace df with your actual DataFrame variable\n",
    "X = load_images(df['Image_Path'])\n",
    "y = df['Labels']\n",
    "\n",
    "# Split the dataset into training and testing sets\n",
    "X_train, X_test, y_train, y_test = train_test_split(X, y, test_size=0.2, random_state=42)\n",
    "\n",
    "# Build a CNN model\n",
    "model = Sequential()\n",
    "model.add(Conv2D(32, (3, 3), activation='relu', input_shape=(64, 64, 3)))\n",
    "model.add(MaxPooling2D((2, 2)))\n",
    "model.add(Flatten())\n",
    "model.add(Dense(128, activation='relu'))\n",
    "model.add(Dense(1, activation='sigmoid'))\n",
    "\n",
    "model.compile(optimizer='adam', loss='binary_crossentropy', metrics=['accuracy'])\n",
    "\n",
    "# Train the CNN model\n",
    "model.fit(X_train, (y_train == 'parasitized').astype(int), epochs=5, batch_size=32, validation_split=0.2)\n",
    "\n",
    "# Extract features from the CNN model\n",
    "cnn_features_train = model.predict(X_train)\n",
    "cnn_features_test = model.predict(X_test)\n",
    "\n",
    "# Reshape features for Random Forest\n",
    "cnn_features_train = cnn_features_train.reshape(cnn_features_train.shape[0], -1)\n",
    "cnn_features_test = cnn_features_test.reshape(cnn_features_test.shape[0], -1)\n",
    "\n",
    "# Build a Random Forest model\n",
    "rf_model = RandomForestClassifier(n_estimators=100, random_state=42)\n",
    "rf_model.fit(cnn_features_train, (y_train == 'parasitized'))\n",
    "\n",
    "# Predict using the hybrid model (Random Forest)\n",
    "rf_predictions = rf_model.predict(cnn_features_test)\n",
    "\n",
    "# Evaluate the hybrid model (Random Forest)\n",
    "rf_accuracy = accuracy_score((y_test == 'parasitized'), rf_predictions)\n",
    "print()\n",
    "print(f\"Accuracy of the hybrid model with Random Forest: {rf_accuracy*100}\")"
   ]
  },
  {
   "cell_type": "code",
   "execution_count": null,
   "id": "4871efd1-57f4-4c65-af8f-aaf00dd3e591",
   "metadata": {},
   "outputs": [],
   "source": []
  }
 ],
 "metadata": {
  "kernelspec": {
   "display_name": "Python 3 (ipykernel)",
   "language": "python",
   "name": "python3"
  },
  "language_info": {
   "codemirror_mode": {
    "name": "ipython",
    "version": 3
   },
   "file_extension": ".py",
   "mimetype": "text/x-python",
   "name": "python",
   "nbconvert_exporter": "python",
   "pygments_lexer": "ipython3",
   "version": "3.10.12"
  }
 },
 "nbformat": 4,
 "nbformat_minor": 5
}
